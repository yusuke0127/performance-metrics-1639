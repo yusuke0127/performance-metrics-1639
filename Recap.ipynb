{
 "cells": [
  {
   "cell_type": "markdown",
   "metadata": {},
   "source": [
    "# KNN Recommender "
   ]
  },
  {
   "cell_type": "markdown",
   "metadata": {},
   "source": [
    "👉 K-Nearest-Neighbors (KNN) models can be used to model and make predictions, but they can alternatively be utilized to find the closest points in a dataset.  \n",
    "\n",
    "👨🏻‍🏫 In this recap, we will use a KNN model to create a basic music recommender system."
   ]
  },
  {
   "cell_type": "code",
   "execution_count": null,
   "metadata": {},
   "outputs": [],
   "source": [
    "# Regression Metrics\n",
    "# R2: goodness of fit\n",
    "# Mean square error\n",
    "# Mean absolute error\n",
    "# Max error\n",
    "# RMSE"
   ]
  },
  {
   "cell_type": "code",
   "execution_count": 1,
   "metadata": {},
   "outputs": [
    {
     "data": {
      "text/html": [
       "<div>\n",
       "<style scoped>\n",
       "    .dataframe tbody tr th:only-of-type {\n",
       "        vertical-align: middle;\n",
       "    }\n",
       "\n",
       "    .dataframe tbody tr th {\n",
       "        vertical-align: top;\n",
       "    }\n",
       "\n",
       "    .dataframe thead th {\n",
       "        text-align: right;\n",
       "    }\n",
       "</style>\n",
       "<table border=\"1\" class=\"dataframe\">\n",
       "  <thead>\n",
       "    <tr style=\"text-align: right;\">\n",
       "      <th></th>\n",
       "      <th>name</th>\n",
       "      <th>artists</th>\n",
       "      <th>popularity</th>\n",
       "      <th>danceability</th>\n",
       "      <th>valence</th>\n",
       "      <th>energy</th>\n",
       "      <th>explicit</th>\n",
       "      <th>key</th>\n",
       "      <th>liveness</th>\n",
       "      <th>loudness</th>\n",
       "      <th>speechiness</th>\n",
       "      <th>tempo</th>\n",
       "    </tr>\n",
       "  </thead>\n",
       "  <tbody>\n",
       "    <tr>\n",
       "      <th>0</th>\n",
       "      <td>We're For The Dark - Remastered 2010</td>\n",
       "      <td>['Badfinger']</td>\n",
       "      <td>22</td>\n",
       "      <td>0.678</td>\n",
       "      <td>0.559</td>\n",
       "      <td>0.432</td>\n",
       "      <td>0</td>\n",
       "      <td>3</td>\n",
       "      <td>0.0727</td>\n",
       "      <td>-12.696</td>\n",
       "      <td>0.0334</td>\n",
       "      <td>117.674</td>\n",
       "    </tr>\n",
       "    <tr>\n",
       "      <th>1</th>\n",
       "      <td>Sixty Years On - Piano Demo</td>\n",
       "      <td>['Elton John']</td>\n",
       "      <td>25</td>\n",
       "      <td>0.456</td>\n",
       "      <td>0.259</td>\n",
       "      <td>0.368</td>\n",
       "      <td>0</td>\n",
       "      <td>6</td>\n",
       "      <td>0.1560</td>\n",
       "      <td>-10.692</td>\n",
       "      <td>0.0280</td>\n",
       "      <td>143.783</td>\n",
       "    </tr>\n",
       "    <tr>\n",
       "      <th>2</th>\n",
       "      <td>Got to Find Another Way</td>\n",
       "      <td>['The Guess Who']</td>\n",
       "      <td>21</td>\n",
       "      <td>0.433</td>\n",
       "      <td>0.833</td>\n",
       "      <td>0.724</td>\n",
       "      <td>0</td>\n",
       "      <td>0</td>\n",
       "      <td>0.1700</td>\n",
       "      <td>-9.803</td>\n",
       "      <td>0.0378</td>\n",
       "      <td>84.341</td>\n",
       "    </tr>\n",
       "    <tr>\n",
       "      <th>3</th>\n",
       "      <td>Feelin' Alright - Live At The Fillmore East/1970</td>\n",
       "      <td>['Joe Cocker']</td>\n",
       "      <td>22</td>\n",
       "      <td>0.436</td>\n",
       "      <td>0.870</td>\n",
       "      <td>0.914</td>\n",
       "      <td>0</td>\n",
       "      <td>5</td>\n",
       "      <td>0.8550</td>\n",
       "      <td>-6.955</td>\n",
       "      <td>0.0610</td>\n",
       "      <td>174.005</td>\n",
       "    </tr>\n",
       "    <tr>\n",
       "      <th>4</th>\n",
       "      <td>Caravan - Take 7</td>\n",
       "      <td>['Van Morrison']</td>\n",
       "      <td>23</td>\n",
       "      <td>0.669</td>\n",
       "      <td>0.564</td>\n",
       "      <td>0.412</td>\n",
       "      <td>0</td>\n",
       "      <td>7</td>\n",
       "      <td>0.4010</td>\n",
       "      <td>-13.095</td>\n",
       "      <td>0.0679</td>\n",
       "      <td>78.716</td>\n",
       "    </tr>\n",
       "  </tbody>\n",
       "</table>\n",
       "</div>"
      ],
      "text/plain": [
       "                                               name            artists  \\\n",
       "0              We're For The Dark - Remastered 2010      ['Badfinger']   \n",
       "1                       Sixty Years On - Piano Demo     ['Elton John']   \n",
       "2                           Got to Find Another Way  ['The Guess Who']   \n",
       "3  Feelin' Alright - Live At The Fillmore East/1970     ['Joe Cocker']   \n",
       "4                                  Caravan - Take 7   ['Van Morrison']   \n",
       "\n",
       "   popularity  danceability  valence  energy  explicit  key  liveness  \\\n",
       "0          22         0.678    0.559   0.432         0    3    0.0727   \n",
       "1          25         0.456    0.259   0.368         0    6    0.1560   \n",
       "2          21         0.433    0.833   0.724         0    0    0.1700   \n",
       "3          22         0.436    0.870   0.914         0    5    0.8550   \n",
       "4          23         0.669    0.564   0.412         0    7    0.4010   \n",
       "\n",
       "   loudness  speechiness    tempo  \n",
       "0   -12.696       0.0334  117.674  \n",
       "1   -10.692       0.0280  143.783  \n",
       "2    -9.803       0.0378   84.341  \n",
       "3    -6.955       0.0610  174.005  \n",
       "4   -13.095       0.0679   78.716  "
      ]
     },
     "execution_count": 1,
     "metadata": {},
     "output_type": "execute_result"
    }
   ],
   "source": [
    "import pandas as pd\n",
    "\n",
    "url = 'https://wagon-public-datasets.s3.amazonaws.com/Machine%20Learning%20Datasets/ML_spotify_data.csv'\n",
    "\n",
    "# Using pandas, load the data from the provided URL\n",
    "df = pd.read_csv(url)\n",
    "df.head()"
   ]
  },
  {
   "cell_type": "markdown",
   "metadata": {},
   "source": [
    "🎯 Let's find songs that are \"similar\" to Queen's mythical *Another One Bites the Dust*."
   ]
  },
  {
   "cell_type": "code",
   "execution_count": 2,
   "metadata": {},
   "outputs": [
    {
     "data": {
      "text/html": [
       "<div>\n",
       "<style scoped>\n",
       "    .dataframe tbody tr th:only-of-type {\n",
       "        vertical-align: middle;\n",
       "    }\n",
       "\n",
       "    .dataframe tbody tr th {\n",
       "        vertical-align: top;\n",
       "    }\n",
       "\n",
       "    .dataframe thead th {\n",
       "        text-align: right;\n",
       "    }\n",
       "</style>\n",
       "<table border=\"1\" class=\"dataframe\">\n",
       "  <thead>\n",
       "    <tr style=\"text-align: right;\">\n",
       "      <th></th>\n",
       "      <th>name</th>\n",
       "      <th>artists</th>\n",
       "      <th>popularity</th>\n",
       "      <th>danceability</th>\n",
       "      <th>valence</th>\n",
       "      <th>energy</th>\n",
       "      <th>explicit</th>\n",
       "      <th>key</th>\n",
       "      <th>liveness</th>\n",
       "      <th>loudness</th>\n",
       "      <th>speechiness</th>\n",
       "      <th>tempo</th>\n",
       "    </tr>\n",
       "  </thead>\n",
       "  <tbody>\n",
       "    <tr>\n",
       "      <th>4295</th>\n",
       "      <td>Another One Bites The Dust - Live at Wembley '86</td>\n",
       "      <td>['Queen']</td>\n",
       "      <td>29</td>\n",
       "      <td>0.534</td>\n",
       "      <td>0.114</td>\n",
       "      <td>0.984</td>\n",
       "      <td>0</td>\n",
       "      <td>4</td>\n",
       "      <td>0.982</td>\n",
       "      <td>-5.058</td>\n",
       "      <td>0.297</td>\n",
       "      <td>115.991</td>\n",
       "    </tr>\n",
       "  </tbody>\n",
       "</table>\n",
       "</div>"
      ],
      "text/plain": [
       "                                                  name    artists  popularity  \\\n",
       "4295  Another One Bites The Dust - Live at Wembley '86  ['Queen']          29   \n",
       "\n",
       "      danceability  valence  energy  explicit  key  liveness  loudness  \\\n",
       "4295         0.534    0.114   0.984         0    4     0.982    -5.058   \n",
       "\n",
       "      speechiness    tempo  \n",
       "4295        0.297  115.991  "
      ]
     },
     "execution_count": 2,
     "metadata": {},
     "output_type": "execute_result"
    }
   ],
   "source": [
    "queen_song = df.iloc[4295:4296] # Another One Bites the Dust - Queen\n",
    "\n",
    "queen_song"
   ]
  },
  {
   "cell_type": "markdown",
   "metadata": {},
   "source": [
    "## 1. Calculating the distances"
   ]
  },
  {
   "cell_type": "markdown",
   "metadata": {},
   "source": [
    "👇 First, fit a KNN on the (scaled) dataset. \n",
    "\n",
    "Since we are only concerned with the similarity of features between the songs, it doesn't matter which target the model is fitted on."
   ]
  },
  {
   "cell_type": "code",
   "execution_count": 7,
   "metadata": {
    "tags": [
     "challengify"
    ]
   },
   "outputs": [
    {
     "data": {
      "text/html": [
       "<div>\n",
       "<style scoped>\n",
       "    .dataframe tbody tr th:only-of-type {\n",
       "        vertical-align: middle;\n",
       "    }\n",
       "\n",
       "    .dataframe tbody tr th {\n",
       "        vertical-align: top;\n",
       "    }\n",
       "\n",
       "    .dataframe thead th {\n",
       "        text-align: right;\n",
       "    }\n",
       "</style>\n",
       "<table border=\"1\" class=\"dataframe\">\n",
       "  <thead>\n",
       "    <tr style=\"text-align: right;\">\n",
       "      <th></th>\n",
       "      <th>popularity</th>\n",
       "      <th>danceability</th>\n",
       "      <th>valence</th>\n",
       "      <th>energy</th>\n",
       "      <th>explicit</th>\n",
       "      <th>key</th>\n",
       "      <th>liveness</th>\n",
       "      <th>loudness</th>\n",
       "      <th>speechiness</th>\n",
       "    </tr>\n",
       "  </thead>\n",
       "  <tbody>\n",
       "    <tr>\n",
       "      <th>0</th>\n",
       "      <td>22</td>\n",
       "      <td>0.678</td>\n",
       "      <td>0.559</td>\n",
       "      <td>0.432</td>\n",
       "      <td>0</td>\n",
       "      <td>3</td>\n",
       "      <td>0.0727</td>\n",
       "      <td>-12.696</td>\n",
       "      <td>0.0334</td>\n",
       "    </tr>\n",
       "    <tr>\n",
       "      <th>1</th>\n",
       "      <td>25</td>\n",
       "      <td>0.456</td>\n",
       "      <td>0.259</td>\n",
       "      <td>0.368</td>\n",
       "      <td>0</td>\n",
       "      <td>6</td>\n",
       "      <td>0.1560</td>\n",
       "      <td>-10.692</td>\n",
       "      <td>0.0280</td>\n",
       "    </tr>\n",
       "    <tr>\n",
       "      <th>2</th>\n",
       "      <td>21</td>\n",
       "      <td>0.433</td>\n",
       "      <td>0.833</td>\n",
       "      <td>0.724</td>\n",
       "      <td>0</td>\n",
       "      <td>0</td>\n",
       "      <td>0.1700</td>\n",
       "      <td>-9.803</td>\n",
       "      <td>0.0378</td>\n",
       "    </tr>\n",
       "    <tr>\n",
       "      <th>3</th>\n",
       "      <td>22</td>\n",
       "      <td>0.436</td>\n",
       "      <td>0.870</td>\n",
       "      <td>0.914</td>\n",
       "      <td>0</td>\n",
       "      <td>5</td>\n",
       "      <td>0.8550</td>\n",
       "      <td>-6.955</td>\n",
       "      <td>0.0610</td>\n",
       "    </tr>\n",
       "    <tr>\n",
       "      <th>4</th>\n",
       "      <td>23</td>\n",
       "      <td>0.669</td>\n",
       "      <td>0.564</td>\n",
       "      <td>0.412</td>\n",
       "      <td>0</td>\n",
       "      <td>7</td>\n",
       "      <td>0.4010</td>\n",
       "      <td>-13.095</td>\n",
       "      <td>0.0679</td>\n",
       "    </tr>\n",
       "  </tbody>\n",
       "</table>\n",
       "</div>"
      ],
      "text/plain": [
       "   popularity  danceability  valence  energy  explicit  key  liveness  \\\n",
       "0          22         0.678    0.559   0.432         0    3    0.0727   \n",
       "1          25         0.456    0.259   0.368         0    6    0.1560   \n",
       "2          21         0.433    0.833   0.724         0    0    0.1700   \n",
       "3          22         0.436    0.870   0.914         0    5    0.8550   \n",
       "4          23         0.669    0.564   0.412         0    7    0.4010   \n",
       "\n",
       "   loudness  speechiness  \n",
       "0   -12.696       0.0334  \n",
       "1   -10.692       0.0280  \n",
       "2    -9.803       0.0378  \n",
       "3    -6.955       0.0610  \n",
       "4   -13.095       0.0679  "
      ]
     },
     "execution_count": 7,
     "metadata": {},
     "output_type": "execute_result"
    }
   ],
   "source": [
    "X_num = df.select_dtypes(exclude=[\"object\"])\n",
    "y = X_num[\"tempo\"]\n",
    "X = X_num.drop(columns=[\"tempo\"])\n",
    "X.head()"
   ]
  },
  {
   "cell_type": "code",
   "execution_count": 8,
   "metadata": {},
   "outputs": [
    {
     "data": {
      "text/plain": [
       "0       117.674\n",
       "1       143.783\n",
       "2        84.341\n",
       "3       174.005\n",
       "4        78.716\n",
       "         ...   \n",
       "9995    105.029\n",
       "9996    137.936\n",
       "9997     91.688\n",
       "9998     75.055\n",
       "9999     94.991\n",
       "Name: tempo, Length: 10000, dtype: float64"
      ]
     },
     "execution_count": 8,
     "metadata": {},
     "output_type": "execute_result"
    }
   ],
   "source": [
    "y"
   ]
  },
  {
   "cell_type": "code",
   "execution_count": 11,
   "metadata": {},
   "outputs": [
    {
     "data": {
      "text/html": [
       "<div>\n",
       "<style scoped>\n",
       "    .dataframe tbody tr th:only-of-type {\n",
       "        vertical-align: middle;\n",
       "    }\n",
       "\n",
       "    .dataframe tbody tr th {\n",
       "        vertical-align: top;\n",
       "    }\n",
       "\n",
       "    .dataframe thead th {\n",
       "        text-align: right;\n",
       "    }\n",
       "</style>\n",
       "<table border=\"1\" class=\"dataframe\">\n",
       "  <thead>\n",
       "    <tr style=\"text-align: right;\">\n",
       "      <th></th>\n",
       "      <th>popularity</th>\n",
       "      <th>danceability</th>\n",
       "      <th>valence</th>\n",
       "      <th>energy</th>\n",
       "      <th>explicit</th>\n",
       "      <th>key</th>\n",
       "      <th>liveness</th>\n",
       "      <th>loudness</th>\n",
       "      <th>speechiness</th>\n",
       "    </tr>\n",
       "  </thead>\n",
       "  <tbody>\n",
       "    <tr>\n",
       "      <th>0</th>\n",
       "      <td>0.255814</td>\n",
       "      <td>0.687627</td>\n",
       "      <td>0.561245</td>\n",
       "      <td>0.432</td>\n",
       "      <td>0.0</td>\n",
       "      <td>0.272727</td>\n",
       "      <td>0.0727</td>\n",
       "      <td>0.774548</td>\n",
       "      <td>0.034901</td>\n",
       "    </tr>\n",
       "    <tr>\n",
       "      <th>1</th>\n",
       "      <td>0.290698</td>\n",
       "      <td>0.462475</td>\n",
       "      <td>0.260040</td>\n",
       "      <td>0.368</td>\n",
       "      <td>0.0</td>\n",
       "      <td>0.545455</td>\n",
       "      <td>0.1560</td>\n",
       "      <td>0.807362</td>\n",
       "      <td>0.029258</td>\n",
       "    </tr>\n",
       "    <tr>\n",
       "      <th>2</th>\n",
       "      <td>0.244186</td>\n",
       "      <td>0.439148</td>\n",
       "      <td>0.836345</td>\n",
       "      <td>0.724</td>\n",
       "      <td>0.0</td>\n",
       "      <td>0.000000</td>\n",
       "      <td>0.1700</td>\n",
       "      <td>0.821918</td>\n",
       "      <td>0.039498</td>\n",
       "    </tr>\n",
       "    <tr>\n",
       "      <th>3</th>\n",
       "      <td>0.255814</td>\n",
       "      <td>0.442191</td>\n",
       "      <td>0.873494</td>\n",
       "      <td>0.914</td>\n",
       "      <td>0.0</td>\n",
       "      <td>0.454545</td>\n",
       "      <td>0.8550</td>\n",
       "      <td>0.868551</td>\n",
       "      <td>0.063741</td>\n",
       "    </tr>\n",
       "    <tr>\n",
       "      <th>4</th>\n",
       "      <td>0.267442</td>\n",
       "      <td>0.678499</td>\n",
       "      <td>0.566265</td>\n",
       "      <td>0.412</td>\n",
       "      <td>0.0</td>\n",
       "      <td>0.636364</td>\n",
       "      <td>0.4010</td>\n",
       "      <td>0.768015</td>\n",
       "      <td>0.070951</td>\n",
       "    </tr>\n",
       "  </tbody>\n",
       "</table>\n",
       "</div>"
      ],
      "text/plain": [
       "   popularity  danceability   valence  energy  explicit       key  liveness  \\\n",
       "0    0.255814      0.687627  0.561245   0.432       0.0  0.272727    0.0727   \n",
       "1    0.290698      0.462475  0.260040   0.368       0.0  0.545455    0.1560   \n",
       "2    0.244186      0.439148  0.836345   0.724       0.0  0.000000    0.1700   \n",
       "3    0.255814      0.442191  0.873494   0.914       0.0  0.454545    0.8550   \n",
       "4    0.267442      0.678499  0.566265   0.412       0.0  0.636364    0.4010   \n",
       "\n",
       "   loudness  speechiness  \n",
       "0  0.774548     0.034901  \n",
       "1  0.807362     0.029258  \n",
       "2  0.821918     0.039498  \n",
       "3  0.868551     0.063741  \n",
       "4  0.768015     0.070951  "
      ]
     },
     "execution_count": 11,
     "metadata": {},
     "output_type": "execute_result"
    }
   ],
   "source": [
    "from sklearn.preprocessing import MinMaxScaler\n",
    "\n",
    "scaler = MinMaxScaler()\n",
    "X_scaled = pd.DataFrame(scaler.fit_transform(X), columns = X.columns)\n",
    "X_scaled.head()"
   ]
  },
  {
   "cell_type": "code",
   "execution_count": 15,
   "metadata": {},
   "outputs": [
    {
     "data": {
      "text/html": [
       "<style>#sk-container-id-2 {color: black;}#sk-container-id-2 pre{padding: 0;}#sk-container-id-2 div.sk-toggleable {background-color: white;}#sk-container-id-2 label.sk-toggleable__label {cursor: pointer;display: block;width: 100%;margin-bottom: 0;padding: 0.3em;box-sizing: border-box;text-align: center;}#sk-container-id-2 label.sk-toggleable__label-arrow:before {content: \"▸\";float: left;margin-right: 0.25em;color: #696969;}#sk-container-id-2 label.sk-toggleable__label-arrow:hover:before {color: black;}#sk-container-id-2 div.sk-estimator:hover label.sk-toggleable__label-arrow:before {color: black;}#sk-container-id-2 div.sk-toggleable__content {max-height: 0;max-width: 0;overflow: hidden;text-align: left;background-color: #f0f8ff;}#sk-container-id-2 div.sk-toggleable__content pre {margin: 0.2em;color: black;border-radius: 0.25em;background-color: #f0f8ff;}#sk-container-id-2 input.sk-toggleable__control:checked~div.sk-toggleable__content {max-height: 200px;max-width: 100%;overflow: auto;}#sk-container-id-2 input.sk-toggleable__control:checked~label.sk-toggleable__label-arrow:before {content: \"▾\";}#sk-container-id-2 div.sk-estimator input.sk-toggleable__control:checked~label.sk-toggleable__label {background-color: #d4ebff;}#sk-container-id-2 div.sk-label input.sk-toggleable__control:checked~label.sk-toggleable__label {background-color: #d4ebff;}#sk-container-id-2 input.sk-hidden--visually {border: 0;clip: rect(1px 1px 1px 1px);clip: rect(1px, 1px, 1px, 1px);height: 1px;margin: -1px;overflow: hidden;padding: 0;position: absolute;width: 1px;}#sk-container-id-2 div.sk-estimator {font-family: monospace;background-color: #f0f8ff;border: 1px dotted black;border-radius: 0.25em;box-sizing: border-box;margin-bottom: 0.5em;}#sk-container-id-2 div.sk-estimator:hover {background-color: #d4ebff;}#sk-container-id-2 div.sk-parallel-item::after {content: \"\";width: 100%;border-bottom: 1px solid gray;flex-grow: 1;}#sk-container-id-2 div.sk-label:hover label.sk-toggleable__label {background-color: #d4ebff;}#sk-container-id-2 div.sk-serial::before {content: \"\";position: absolute;border-left: 1px solid gray;box-sizing: border-box;top: 0;bottom: 0;left: 50%;z-index: 0;}#sk-container-id-2 div.sk-serial {display: flex;flex-direction: column;align-items: center;background-color: white;padding-right: 0.2em;padding-left: 0.2em;position: relative;}#sk-container-id-2 div.sk-item {position: relative;z-index: 1;}#sk-container-id-2 div.sk-parallel {display: flex;align-items: stretch;justify-content: center;background-color: white;position: relative;}#sk-container-id-2 div.sk-item::before, #sk-container-id-2 div.sk-parallel-item::before {content: \"\";position: absolute;border-left: 1px solid gray;box-sizing: border-box;top: 0;bottom: 0;left: 50%;z-index: -1;}#sk-container-id-2 div.sk-parallel-item {display: flex;flex-direction: column;z-index: 1;position: relative;background-color: white;}#sk-container-id-2 div.sk-parallel-item:first-child::after {align-self: flex-end;width: 50%;}#sk-container-id-2 div.sk-parallel-item:last-child::after {align-self: flex-start;width: 50%;}#sk-container-id-2 div.sk-parallel-item:only-child::after {width: 0;}#sk-container-id-2 div.sk-dashed-wrapped {border: 1px dashed gray;margin: 0 0.4em 0.5em 0.4em;box-sizing: border-box;padding-bottom: 0.4em;background-color: white;}#sk-container-id-2 div.sk-label label {font-family: monospace;font-weight: bold;display: inline-block;line-height: 1.2em;}#sk-container-id-2 div.sk-label-container {text-align: center;}#sk-container-id-2 div.sk-container {/* jupyter's `normalize.less` sets `[hidden] { display: none; }` but bootstrap.min.css set `[hidden] { display: none !important; }` so we also need the `!important` here to be able to override the default hidden behavior on the sphinx rendered scikit-learn.org. See: https://github.com/scikit-learn/scikit-learn/issues/21755 */display: inline-block !important;position: relative;}#sk-container-id-2 div.sk-text-repr-fallback {display: none;}</style><div id=\"sk-container-id-2\" class=\"sk-top-container\"><div class=\"sk-text-repr-fallback\"><pre>KNeighborsRegressor()</pre><b>In a Jupyter environment, please rerun this cell to show the HTML representation or trust the notebook. <br />On GitHub, the HTML representation is unable to render, please try loading this page with nbviewer.org.</b></div><div class=\"sk-container\" hidden><div class=\"sk-item\"><div class=\"sk-estimator sk-toggleable\"><input class=\"sk-toggleable__control sk-hidden--visually\" id=\"sk-estimator-id-2\" type=\"checkbox\" checked><label for=\"sk-estimator-id-2\" class=\"sk-toggleable__label sk-toggleable__label-arrow\">KNeighborsRegressor</label><div class=\"sk-toggleable__content\"><pre>KNeighborsRegressor()</pre></div></div></div></div></div>"
      ],
      "text/plain": [
       "KNeighborsRegressor()"
      ]
     },
     "execution_count": 15,
     "metadata": {},
     "output_type": "execute_result"
    }
   ],
   "source": [
    "from sklearn.neighbors import KNeighborsRegressor\n",
    "\n",
    "knn = KNeighborsRegressor()\n",
    "knn.fit(X_scaled, y)"
   ]
  },
  {
   "cell_type": "markdown",
   "metadata": {},
   "source": [
    "Check out the [documentation](https://scikit-learn.org/stable/modules/generated/sklearn.neighbors.KNeighborsRegressor.html#sklearn.neighbors.KNeighborsRegressor.kneighbors)"
   ]
  },
  {
   "cell_type": "markdown",
   "metadata": {},
   "source": [
    "## 2. Passing the new point"
   ]
  },
  {
   "cell_type": "markdown",
   "metadata": {},
   "source": [
    "👇 You can now pass a new point to the KNN model and find its closest point."
   ]
  },
  {
   "cell_type": "code",
   "execution_count": 16,
   "metadata": {},
   "outputs": [
    {
     "data": {
      "text/html": [
       "<div>\n",
       "<style scoped>\n",
       "    .dataframe tbody tr th:only-of-type {\n",
       "        vertical-align: middle;\n",
       "    }\n",
       "\n",
       "    .dataframe tbody tr th {\n",
       "        vertical-align: top;\n",
       "    }\n",
       "\n",
       "    .dataframe thead th {\n",
       "        text-align: right;\n",
       "    }\n",
       "</style>\n",
       "<table border=\"1\" class=\"dataframe\">\n",
       "  <thead>\n",
       "    <tr style=\"text-align: right;\">\n",
       "      <th></th>\n",
       "      <th>name</th>\n",
       "      <th>artists</th>\n",
       "      <th>popularity</th>\n",
       "      <th>danceability</th>\n",
       "      <th>valence</th>\n",
       "      <th>energy</th>\n",
       "      <th>explicit</th>\n",
       "      <th>key</th>\n",
       "      <th>liveness</th>\n",
       "      <th>loudness</th>\n",
       "      <th>speechiness</th>\n",
       "      <th>tempo</th>\n",
       "    </tr>\n",
       "  </thead>\n",
       "  <tbody>\n",
       "    <tr>\n",
       "      <th>4295</th>\n",
       "      <td>Another One Bites The Dust - Live at Wembley '86</td>\n",
       "      <td>['Queen']</td>\n",
       "      <td>29</td>\n",
       "      <td>0.534</td>\n",
       "      <td>0.114</td>\n",
       "      <td>0.984</td>\n",
       "      <td>0</td>\n",
       "      <td>4</td>\n",
       "      <td>0.982</td>\n",
       "      <td>-5.058</td>\n",
       "      <td>0.297</td>\n",
       "      <td>115.991</td>\n",
       "    </tr>\n",
       "  </tbody>\n",
       "</table>\n",
       "</div>"
      ],
      "text/plain": [
       "                                                  name    artists  popularity  \\\n",
       "4295  Another One Bites The Dust - Live at Wembley '86  ['Queen']          29   \n",
       "\n",
       "      danceability  valence  energy  explicit  key  liveness  loudness  \\\n",
       "4295         0.534    0.114   0.984         0    4     0.982    -5.058   \n",
       "\n",
       "      speechiness    tempo  \n",
       "4295        0.297  115.991  "
      ]
     },
     "execution_count": 16,
     "metadata": {},
     "output_type": "execute_result"
    }
   ],
   "source": [
    "queen_song"
   ]
  },
  {
   "cell_type": "code",
   "execution_count": 18,
   "metadata": {},
   "outputs": [
    {
     "data": {
      "text/html": [
       "<div>\n",
       "<style scoped>\n",
       "    .dataframe tbody tr th:only-of-type {\n",
       "        vertical-align: middle;\n",
       "    }\n",
       "\n",
       "    .dataframe tbody tr th {\n",
       "        vertical-align: top;\n",
       "    }\n",
       "\n",
       "    .dataframe thead th {\n",
       "        text-align: right;\n",
       "    }\n",
       "</style>\n",
       "<table border=\"1\" class=\"dataframe\">\n",
       "  <thead>\n",
       "    <tr style=\"text-align: right;\">\n",
       "      <th></th>\n",
       "      <th>popularity</th>\n",
       "      <th>danceability</th>\n",
       "      <th>valence</th>\n",
       "      <th>energy</th>\n",
       "      <th>explicit</th>\n",
       "      <th>key</th>\n",
       "      <th>liveness</th>\n",
       "      <th>loudness</th>\n",
       "      <th>speechiness</th>\n",
       "    </tr>\n",
       "  </thead>\n",
       "  <tbody>\n",
       "    <tr>\n",
       "      <th>4295</th>\n",
       "      <td>29</td>\n",
       "      <td>0.534</td>\n",
       "      <td>0.114</td>\n",
       "      <td>0.984</td>\n",
       "      <td>0</td>\n",
       "      <td>4</td>\n",
       "      <td>0.982</td>\n",
       "      <td>-5.058</td>\n",
       "      <td>0.297</td>\n",
       "    </tr>\n",
       "  </tbody>\n",
       "</table>\n",
       "</div>"
      ],
      "text/plain": [
       "      popularity  danceability  valence  energy  explicit  key  liveness  \\\n",
       "4295          29         0.534    0.114   0.984         0    4     0.982   \n",
       "\n",
       "      loudness  speechiness  \n",
       "4295    -5.058        0.297  "
      ]
     },
     "execution_count": 18,
     "metadata": {},
     "output_type": "execute_result"
    }
   ],
   "source": [
    "queen_song_new = queen_song.drop(columns=[\"artists\", \"name\", \"tempo\"])\n",
    "queen_song_new"
   ]
  },
  {
   "cell_type": "code",
   "execution_count": 21,
   "metadata": {},
   "outputs": [
    {
     "data": {
      "text/html": [
       "<div>\n",
       "<style scoped>\n",
       "    .dataframe tbody tr th:only-of-type {\n",
       "        vertical-align: middle;\n",
       "    }\n",
       "\n",
       "    .dataframe tbody tr th {\n",
       "        vertical-align: top;\n",
       "    }\n",
       "\n",
       "    .dataframe thead th {\n",
       "        text-align: right;\n",
       "    }\n",
       "</style>\n",
       "<table border=\"1\" class=\"dataframe\">\n",
       "  <thead>\n",
       "    <tr style=\"text-align: right;\">\n",
       "      <th></th>\n",
       "      <th>popularity</th>\n",
       "      <th>danceability</th>\n",
       "      <th>valence</th>\n",
       "      <th>energy</th>\n",
       "      <th>explicit</th>\n",
       "      <th>key</th>\n",
       "      <th>liveness</th>\n",
       "      <th>loudness</th>\n",
       "      <th>speechiness</th>\n",
       "    </tr>\n",
       "  </thead>\n",
       "  <tbody>\n",
       "    <tr>\n",
       "      <th>0</th>\n",
       "      <td>0.337209</td>\n",
       "      <td>0.541582</td>\n",
       "      <td>0.114458</td>\n",
       "      <td>0.984</td>\n",
       "      <td>0.0</td>\n",
       "      <td>0.363636</td>\n",
       "      <td>0.982</td>\n",
       "      <td>0.899612</td>\n",
       "      <td>0.310345</td>\n",
       "    </tr>\n",
       "  </tbody>\n",
       "</table>\n",
       "</div>"
      ],
      "text/plain": [
       "   popularity  danceability   valence  energy  explicit       key  liveness  \\\n",
       "0    0.337209      0.541582  0.114458   0.984       0.0  0.363636     0.982   \n",
       "\n",
       "   loudness  speechiness  \n",
       "0  0.899612     0.310345  "
      ]
     },
     "execution_count": 21,
     "metadata": {},
     "output_type": "execute_result"
    }
   ],
   "source": [
    "queen_song_new_df = pd.DataFrame(scaler.transform(queen_song_new), columns=queen_song_new.columns)\n",
    "queen_song_new_df"
   ]
  },
  {
   "cell_type": "code",
   "execution_count": 40,
   "metadata": {},
   "outputs": [
    {
     "data": {
      "text/plain": [
       "(array([[0.        , 0.34255512]]), array([[4295, 1164]]))"
      ]
     },
     "execution_count": 40,
     "metadata": {},
     "output_type": "execute_result"
    }
   ],
   "source": [
    "knn.kneighbors(queen_song_new_df, n_neighbors=2)"
   ]
  },
  {
   "cell_type": "code",
   "execution_count": 41,
   "metadata": {},
   "outputs": [
    {
     "data": {
      "text/plain": [
       "name            Another One Bites The Dust - Live at Wembley '86\n",
       "artists                                                ['Queen']\n",
       "popularity                                                    29\n",
       "danceability                                               0.534\n",
       "valence                                                    0.114\n",
       "energy                                                     0.984\n",
       "explicit                                                       0\n",
       "key                                                            4\n",
       "liveness                                                   0.982\n",
       "loudness                                                  -5.058\n",
       "speechiness                                                0.297\n",
       "tempo                                                    115.991\n",
       "Name: 4295, dtype: object"
      ]
     },
     "execution_count": 41,
     "metadata": {},
     "output_type": "execute_result"
    }
   ],
   "source": [
    "df.iloc[4295]"
   ]
  },
  {
   "cell_type": "code",
   "execution_count": 42,
   "metadata": {},
   "outputs": [
    {
     "data": {
      "text/plain": [
       "name            Hi, Hi, Hi - Live / Remastered\n",
       "artists                              ['Wings']\n",
       "popularity                                  27\n",
       "danceability                             0.219\n",
       "valence                                  0.162\n",
       "energy                                   0.939\n",
       "explicit                                     0\n",
       "key                                          4\n",
       "liveness                                 0.993\n",
       "loudness                                -9.275\n",
       "speechiness                              0.226\n",
       "tempo                                  140.832\n",
       "Name: 1164, dtype: object"
      ]
     },
     "execution_count": 42,
     "metadata": {},
     "output_type": "execute_result"
    }
   ],
   "source": [
    "df.iloc[1164]"
   ]
  },
  {
   "cell_type": "markdown",
   "metadata": {},
   "source": [
    "## 3. Making a playlist!"
   ]
  },
  {
   "cell_type": "markdown",
   "metadata": {},
   "source": [
    "👇 Make a playlist with 10 songs based on Queen's *Another One Bites the Dust*, sorted by increasing tempo."
   ]
  },
  {
   "cell_type": "code",
   "execution_count": 43,
   "metadata": {},
   "outputs": [
    {
     "data": {
      "text/html": [
       "<div>\n",
       "<style scoped>\n",
       "    .dataframe tbody tr th:only-of-type {\n",
       "        vertical-align: middle;\n",
       "    }\n",
       "\n",
       "    .dataframe tbody tr th {\n",
       "        vertical-align: top;\n",
       "    }\n",
       "\n",
       "    .dataframe thead th {\n",
       "        text-align: right;\n",
       "    }\n",
       "</style>\n",
       "<table border=\"1\" class=\"dataframe\">\n",
       "  <thead>\n",
       "    <tr style=\"text-align: right;\">\n",
       "      <th></th>\n",
       "      <th>name</th>\n",
       "      <th>artists</th>\n",
       "      <th>popularity</th>\n",
       "      <th>danceability</th>\n",
       "      <th>valence</th>\n",
       "      <th>energy</th>\n",
       "      <th>explicit</th>\n",
       "      <th>key</th>\n",
       "      <th>liveness</th>\n",
       "      <th>loudness</th>\n",
       "      <th>speechiness</th>\n",
       "      <th>tempo</th>\n",
       "    </tr>\n",
       "  </thead>\n",
       "  <tbody>\n",
       "    <tr>\n",
       "      <th>4295</th>\n",
       "      <td>Another One Bites The Dust - Live at Wembley '86</td>\n",
       "      <td>['Queen']</td>\n",
       "      <td>29</td>\n",
       "      <td>0.534</td>\n",
       "      <td>0.114</td>\n",
       "      <td>0.984</td>\n",
       "      <td>0</td>\n",
       "      <td>4</td>\n",
       "      <td>0.982</td>\n",
       "      <td>-5.058</td>\n",
       "      <td>0.297</td>\n",
       "      <td>115.991</td>\n",
       "    </tr>\n",
       "  </tbody>\n",
       "</table>\n",
       "</div>"
      ],
      "text/plain": [
       "                                                  name    artists  popularity  \\\n",
       "4295  Another One Bites The Dust - Live at Wembley '86  ['Queen']          29   \n",
       "\n",
       "      danceability  valence  energy  explicit  key  liveness  loudness  \\\n",
       "4295         0.534    0.114   0.984         0    4     0.982    -5.058   \n",
       "\n",
       "      speechiness    tempo  \n",
       "4295        0.297  115.991  "
      ]
     },
     "execution_count": 43,
     "metadata": {},
     "output_type": "execute_result"
    }
   ],
   "source": [
    "queen_song"
   ]
  },
  {
   "cell_type": "code",
   "execution_count": 53,
   "metadata": {
    "tags": [
     "challengify"
    ]
   },
   "outputs": [
    {
     "data": {
      "text/plain": [
       "[4295, 1164, 8607, 1761, 704, 1614, 2233, 1211, 3307, 1221, 2289]"
      ]
     },
     "execution_count": 53,
     "metadata": {},
     "output_type": "execute_result"
    }
   ],
   "source": [
    "list(knn.kneighbors(queen_song_new_df, n_neighbors=11)[1][0])"
   ]
  },
  {
   "cell_type": "code",
   "execution_count": 58,
   "metadata": {},
   "outputs": [
    {
     "data": {
      "text/html": [
       "<div>\n",
       "<style scoped>\n",
       "    .dataframe tbody tr th:only-of-type {\n",
       "        vertical-align: middle;\n",
       "    }\n",
       "\n",
       "    .dataframe tbody tr th {\n",
       "        vertical-align: top;\n",
       "    }\n",
       "\n",
       "    .dataframe thead th {\n",
       "        text-align: right;\n",
       "    }\n",
       "</style>\n",
       "<table border=\"1\" class=\"dataframe\">\n",
       "  <thead>\n",
       "    <tr style=\"text-align: right;\">\n",
       "      <th></th>\n",
       "      <th>name</th>\n",
       "      <th>artists</th>\n",
       "      <th>popularity</th>\n",
       "      <th>danceability</th>\n",
       "      <th>valence</th>\n",
       "      <th>energy</th>\n",
       "      <th>explicit</th>\n",
       "      <th>key</th>\n",
       "      <th>liveness</th>\n",
       "      <th>loudness</th>\n",
       "      <th>speechiness</th>\n",
       "      <th>tempo</th>\n",
       "    </tr>\n",
       "  </thead>\n",
       "  <tbody>\n",
       "    <tr>\n",
       "      <th>3307</th>\n",
       "      <td>Graveyard</td>\n",
       "      <td>['Butthole Surfers']</td>\n",
       "      <td>27</td>\n",
       "      <td>0.504</td>\n",
       "      <td>0.1350</td>\n",
       "      <td>0.949</td>\n",
       "      <td>0</td>\n",
       "      <td>7</td>\n",
       "      <td>0.913</td>\n",
       "      <td>-8.797</td>\n",
       "      <td>0.0385</td>\n",
       "      <td>98.128</td>\n",
       "    </tr>\n",
       "    <tr>\n",
       "      <th>704</th>\n",
       "      <td>It Ain't Me, Babe - Live at LA Forum, Inglewoo...</td>\n",
       "      <td>['Bob Dylan']</td>\n",
       "      <td>23</td>\n",
       "      <td>0.455</td>\n",
       "      <td>0.3080</td>\n",
       "      <td>0.981</td>\n",
       "      <td>0</td>\n",
       "      <td>7</td>\n",
       "      <td>0.995</td>\n",
       "      <td>-6.409</td>\n",
       "      <td>0.1830</td>\n",
       "      <td>100.490</td>\n",
       "    </tr>\n",
       "    <tr>\n",
       "      <th>1761</th>\n",
       "      <td>Liar</td>\n",
       "      <td>['The Damned']</td>\n",
       "      <td>25</td>\n",
       "      <td>0.348</td>\n",
       "      <td>0.2030</td>\n",
       "      <td>0.939</td>\n",
       "      <td>0</td>\n",
       "      <td>4</td>\n",
       "      <td>0.838</td>\n",
       "      <td>-11.540</td>\n",
       "      <td>0.0745</td>\n",
       "      <td>107.064</td>\n",
       "    </tr>\n",
       "    <tr>\n",
       "      <th>1211</th>\n",
       "      <td>A Light In The Black</td>\n",
       "      <td>['Rainbow']</td>\n",
       "      <td>32</td>\n",
       "      <td>0.334</td>\n",
       "      <td>0.0936</td>\n",
       "      <td>0.982</td>\n",
       "      <td>0</td>\n",
       "      <td>4</td>\n",
       "      <td>0.753</td>\n",
       "      <td>-10.190</td>\n",
       "      <td>0.0735</td>\n",
       "      <td>109.414</td>\n",
       "    </tr>\n",
       "    <tr>\n",
       "      <th>4295</th>\n",
       "      <td>Another One Bites The Dust - Live at Wembley '86</td>\n",
       "      <td>['Queen']</td>\n",
       "      <td>29</td>\n",
       "      <td>0.534</td>\n",
       "      <td>0.1140</td>\n",
       "      <td>0.984</td>\n",
       "      <td>0</td>\n",
       "      <td>4</td>\n",
       "      <td>0.982</td>\n",
       "      <td>-5.058</td>\n",
       "      <td>0.2970</td>\n",
       "      <td>115.991</td>\n",
       "    </tr>\n",
       "    <tr>\n",
       "      <th>8607</th>\n",
       "      <td>Cheat Codes</td>\n",
       "      <td>['Nitro Fun']</td>\n",
       "      <td>51</td>\n",
       "      <td>0.626</td>\n",
       "      <td>0.1460</td>\n",
       "      <td>0.960</td>\n",
       "      <td>0</td>\n",
       "      <td>4</td>\n",
       "      <td>0.894</td>\n",
       "      <td>-4.234</td>\n",
       "      <td>0.0837</td>\n",
       "      <td>128.001</td>\n",
       "    </tr>\n",
       "    <tr>\n",
       "      <th>1164</th>\n",
       "      <td>Hi, Hi, Hi - Live / Remastered</td>\n",
       "      <td>['Wings']</td>\n",
       "      <td>27</td>\n",
       "      <td>0.219</td>\n",
       "      <td>0.1620</td>\n",
       "      <td>0.939</td>\n",
       "      <td>0</td>\n",
       "      <td>4</td>\n",
       "      <td>0.993</td>\n",
       "      <td>-9.275</td>\n",
       "      <td>0.2260</td>\n",
       "      <td>140.832</td>\n",
       "    </tr>\n",
       "    <tr>\n",
       "      <th>2289</th>\n",
       "      <td>You've Got Another Thing Coming - Live from th...</td>\n",
       "      <td>['Judas Priest']</td>\n",
       "      <td>27</td>\n",
       "      <td>0.382</td>\n",
       "      <td>0.3270</td>\n",
       "      <td>0.929</td>\n",
       "      <td>0</td>\n",
       "      <td>6</td>\n",
       "      <td>0.966</td>\n",
       "      <td>-5.921</td>\n",
       "      <td>0.0568</td>\n",
       "      <td>144.354</td>\n",
       "    </tr>\n",
       "    <tr>\n",
       "      <th>2233</th>\n",
       "      <td>YYZ - Live In Canada / 1980</td>\n",
       "      <td>['Rush']</td>\n",
       "      <td>26</td>\n",
       "      <td>0.334</td>\n",
       "      <td>0.2780</td>\n",
       "      <td>0.911</td>\n",
       "      <td>0</td>\n",
       "      <td>4</td>\n",
       "      <td>0.937</td>\n",
       "      <td>-12.017</td>\n",
       "      <td>0.0642</td>\n",
       "      <td>145.905</td>\n",
       "    </tr>\n",
       "    <tr>\n",
       "      <th>1221</th>\n",
       "      <td>Southside Shuffle - Live</td>\n",
       "      <td>['The J. Geils Band']</td>\n",
       "      <td>20</td>\n",
       "      <td>0.420</td>\n",
       "      <td>0.3540</td>\n",
       "      <td>0.923</td>\n",
       "      <td>0</td>\n",
       "      <td>7</td>\n",
       "      <td>0.960</td>\n",
       "      <td>-8.690</td>\n",
       "      <td>0.2800</td>\n",
       "      <td>153.333</td>\n",
       "    </tr>\n",
       "    <tr>\n",
       "      <th>1614</th>\n",
       "      <td>Clock Strikes Ten - Live at Nippon Budokan, To...</td>\n",
       "      <td>['Cheap Trick']</td>\n",
       "      <td>21</td>\n",
       "      <td>0.332</td>\n",
       "      <td>0.2370</td>\n",
       "      <td>0.981</td>\n",
       "      <td>0</td>\n",
       "      <td>2</td>\n",
       "      <td>0.891</td>\n",
       "      <td>-8.838</td>\n",
       "      <td>0.1290</td>\n",
       "      <td>161.160</td>\n",
       "    </tr>\n",
       "  </tbody>\n",
       "</table>\n",
       "</div>"
      ],
      "text/plain": [
       "                                                   name  \\\n",
       "3307                                          Graveyard   \n",
       "704   It Ain't Me, Babe - Live at LA Forum, Inglewoo...   \n",
       "1761                                               Liar   \n",
       "1211                               A Light In The Black   \n",
       "4295   Another One Bites The Dust - Live at Wembley '86   \n",
       "8607                                        Cheat Codes   \n",
       "1164                     Hi, Hi, Hi - Live / Remastered   \n",
       "2289  You've Got Another Thing Coming - Live from th...   \n",
       "2233                        YYZ - Live In Canada / 1980   \n",
       "1221                           Southside Shuffle - Live   \n",
       "1614  Clock Strikes Ten - Live at Nippon Budokan, To...   \n",
       "\n",
       "                    artists  popularity  danceability  valence  energy  \\\n",
       "3307   ['Butthole Surfers']          27         0.504   0.1350   0.949   \n",
       "704           ['Bob Dylan']          23         0.455   0.3080   0.981   \n",
       "1761         ['The Damned']          25         0.348   0.2030   0.939   \n",
       "1211            ['Rainbow']          32         0.334   0.0936   0.982   \n",
       "4295              ['Queen']          29         0.534   0.1140   0.984   \n",
       "8607          ['Nitro Fun']          51         0.626   0.1460   0.960   \n",
       "1164              ['Wings']          27         0.219   0.1620   0.939   \n",
       "2289       ['Judas Priest']          27         0.382   0.3270   0.929   \n",
       "2233               ['Rush']          26         0.334   0.2780   0.911   \n",
       "1221  ['The J. Geils Band']          20         0.420   0.3540   0.923   \n",
       "1614        ['Cheap Trick']          21         0.332   0.2370   0.981   \n",
       "\n",
       "      explicit  key  liveness  loudness  speechiness    tempo  \n",
       "3307         0    7     0.913    -8.797       0.0385   98.128  \n",
       "704          0    7     0.995    -6.409       0.1830  100.490  \n",
       "1761         0    4     0.838   -11.540       0.0745  107.064  \n",
       "1211         0    4     0.753   -10.190       0.0735  109.414  \n",
       "4295         0    4     0.982    -5.058       0.2970  115.991  \n",
       "8607         0    4     0.894    -4.234       0.0837  128.001  \n",
       "1164         0    4     0.993    -9.275       0.2260  140.832  \n",
       "2289         0    6     0.966    -5.921       0.0568  144.354  \n",
       "2233         0    4     0.937   -12.017       0.0642  145.905  \n",
       "1221         0    7     0.960    -8.690       0.2800  153.333  \n",
       "1614         0    2     0.891    -8.838       0.1290  161.160  "
      ]
     },
     "execution_count": 58,
     "metadata": {},
     "output_type": "execute_result"
    }
   ],
   "source": [
    "df.iloc[list(knn.kneighbors(queen_song_new_df, n_neighbors=11)[1][0])].sort_values(by=\"tempo\")"
   ]
  },
  {
   "cell_type": "code",
   "execution_count": null,
   "metadata": {},
   "outputs": [],
   "source": []
  }
 ],
 "metadata": {
  "kernelspec": {
   "display_name": "Python 3 (ipykernel)",
   "language": "python",
   "name": "python3"
  },
  "language_info": {
   "codemirror_mode": {
    "name": "ipython",
    "version": 3
   },
   "file_extension": ".py",
   "mimetype": "text/x-python",
   "name": "python",
   "nbconvert_exporter": "python",
   "pygments_lexer": "ipython3",
   "version": "3.10.6"
  },
  "toc": {
   "base_numbering": 1,
   "nav_menu": {},
   "number_sections": true,
   "sideBar": true,
   "skip_h1_title": false,
   "title_cell": "Table of Contents",
   "title_sidebar": "Contents",
   "toc_cell": false,
   "toc_position": {},
   "toc_section_display": true,
   "toc_window_display": false
  },
  "varInspector": {
   "cols": {
    "lenName": 16,
    "lenType": 16,
    "lenVar": 40
   },
   "kernels_config": {
    "python": {
     "delete_cmd_postfix": "",
     "delete_cmd_prefix": "del ",
     "library": "var_list.py",
     "varRefreshCmd": "print(var_dic_list())"
    },
    "r": {
     "delete_cmd_postfix": ") ",
     "delete_cmd_prefix": "rm(",
     "library": "var_list.r",
     "varRefreshCmd": "cat(var_dic_list()) "
    }
   },
   "types_to_exclude": [
    "module",
    "function",
    "builtin_function_or_method",
    "instance",
    "_Feature"
   ],
   "window_display": false
  }
 },
 "nbformat": 4,
 "nbformat_minor": 4
}
